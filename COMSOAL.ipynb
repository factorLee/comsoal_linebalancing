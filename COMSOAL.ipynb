{
  "nbformat": 4,
  "nbformat_minor": 0,
  "metadata": {
    "kernelspec": {
      "display_name": "Python 3",
      "language": "python",
      "name": "python3"
    },
    "language_info": {
      "codemirror_mode": {
        "name": "ipython",
        "version": 3
      },
      "file_extension": ".py",
      "mimetype": "text/x-python",
      "name": "python",
      "nbconvert_exporter": "python",
      "pygments_lexer": "ipython3",
      "version": "3.7.4"
    },
    "colab": {
      "name": "COMSOAL.ipynb",
      "provenance": [],
      "include_colab_link": true
    }
  },
  "cells": [
    {
      "cell_type": "markdown",
      "metadata": {
        "id": "view-in-github",
        "colab_type": "text"
      },
      "source": [
        "<a href=\"https://colab.research.google.com/github/factorLee/comsoal_linebalancing/blob/master/COMSOAL.ipynb\" target=\"_parent\"><img src=\"https://colab.research.google.com/assets/colab-badge.svg\" alt=\"Open In Colab\"/></a>"
      ]
    },
    {
      "cell_type": "code",
      "metadata": {
        "id": "zciKpgQCb7yP",
        "colab": {
          "base_uri": "https://localhost:8080/"
        },
        "outputId": "5dda1b53-7f0c-4815-dc49-bc3441aaa893"
      },
      "source": [
        "import pandas as pd\n",
        "import random as ran\n",
        "\n",
        "# 선후관계도를 나타내는 lineballancing 엑셀 파일 불러오기\n",
        "df = pd.read_excel('linebalancing.xlsx')\n",
        "\n",
        "ct= int(input('Cycle Time :''분'))\n",
        "iter=int(input('반복횟수:''회'))\n",
        "\n",
        "for j in range(iter):\n",
        "    print('   ')\n",
        "    print('COMSOAL[',j,']')\n",
        "    \n",
        "    workEleList = []\n",
        "    for i in range(len(df)):\n",
        "        workEleList.append(df['요소작업'][i]) \n",
        "    \n",
        "    preTaskList = [] \n",
        "    for i in range(len(df)):\n",
        "        if type(df['선행작업'][i]) == int:\n",
        "            preTaskList.append([df['선행작업'][i]])\n",
        "        else:\n",
        "            preTaskList += [df['선행작업'][i].split(',')]\n",
        "    preTaskList2 = preTaskList.copy()   \n",
        "\n",
        "    timeEleList = []\n",
        "    for i in range(len(df)):\n",
        "        timeEleList.append(df['작업시간(분)'][i])\n",
        "\n",
        "    area=[[]]\n",
        "    areatime=[[]]\n",
        "    cur=0\n",
        "    sum_areatime=0  \n",
        "    end_workEleList = []\n",
        "    for i in range(len(df)):\n",
        "        end_workEleList+='X'\n",
        "    while workEleList != end_workEleList: \n",
        "        cE = [] \n",
        "        if sum_areatime < ct :\n",
        "            for j in range(len(df)): \n",
        "                if preTaskList2[j][0] == 0 and sum(areatime[cur])+timeEleList[j] <= ct and workEleList[j] !='X':\n",
        "                    cE.append(workEleList[j])\n",
        "       \n",
        "            if cE != []:  \n",
        "                cho = ran.choice(cE)\n",
        "                area[cur] += [cho]\n",
        "                areatime[cur] += [timeEleList[cho-1]]\n",
        "                \n",
        "                for i in range(len(df)):\n",
        "                    if workEleList[i] == cho:\n",
        "                        for n in range(len(df)):\n",
        "                            if workEleList[i] == preTaskList2[n][0]:\n",
        "                                preTaskList2[n][0] = 0\n",
        "                            if str(workEleList[i]) in preTaskList2[n]:\n",
        "                                del preTaskList2[n][preTaskList2[n].index(str(workEleList[i]))] \n",
        "                            if preTaskList2[n] == []:\n",
        "                                preTaskList2[n] =[0] \n",
        "                        preTaskList2[i] = 'X'\n",
        "                workEleList[cho-1]='X'\n",
        "                sum_areatime = sum(areatime[cur])\n",
        "            else:\n",
        "                sum_areatime += ct\n",
        "        else: \n",
        "            cur+=1\n",
        "            sum_areatime=0\n",
        "            areatime+=[[]]\n",
        "            area+=[[]]\n",
        "\n",
        "    sum_totaltime=0\n",
        "    sum_areatime=[]\n",
        "    for i in range(len(areatime)):\n",
        "        sum_totaltime+=sum(areatime[i])\n",
        "        sum_areatime += [sum(areatime[i])]\n",
        "    print('작업장개수 :', len(area))\n",
        "    print('작업장 :', area)\n",
        "    print('작업시간 :', areatime)\n",
        "    print('작업장별 소요시간 :',sum_areatime) \n",
        "    print('작업효율 :' ,sum_totaltime/(len(area)*ct) )"
      ],
      "execution_count": null,
      "outputs": [
        {
          "output_type": "stream",
          "text": [
            "Cycle Time :분90\n",
            "반복횟수:회10\n",
            "   \n",
            "COMSOAL[ 0 ]\n",
            "작업장개수 : 2\n",
            "작업장 : [[2, 1, 4, 9, 3, 6, 8, 7, 11, 5, 10, 12, 13, 14], [15, 16, 17, 18, 20, 19, 21]]\n",
            "작업시간 : [[5, 7, 10, 10, 8, 4, 6, 3, 6, 7, 7, 5, 5, 4], [12, 10, 5, 15, 5, 10, 6]]\n",
            "작업장별 소요시간 : [87, 63]\n",
            "작업효율 : 0.8333333333333334\n",
            "   \n",
            "COMSOAL[ 1 ]\n",
            "작업장개수 : 2\n",
            "작업장 : [[3, 8, 2, 6, 7, 11, 1, 5, 4, 10, 9, 12, 13, 14], [15, 16, 18, 17, 20, 19, 21]]\n",
            "작업시간 : [[8, 6, 5, 4, 3, 6, 7, 7, 10, 7, 10, 5, 5, 4], [12, 10, 15, 5, 5, 10, 6]]\n",
            "작업장별 소요시간 : [87, 63]\n",
            "작업효율 : 0.8333333333333334\n",
            "   \n",
            "COMSOAL[ 2 ]\n",
            "작업장개수 : 2\n",
            "작업장 : [[3, 8, 7, 1, 5, 11, 2, 6, 4, 9, 10, 12, 13, 14], [15, 16, 17, 19, 18, 20, 21]]\n",
            "작업시간 : [[8, 6, 3, 7, 7, 6, 5, 4, 10, 10, 7, 5, 5, 4], [12, 10, 5, 10, 15, 5, 6]]\n",
            "작업장별 소요시간 : [87, 63]\n",
            "작업효율 : 0.8333333333333334\n",
            "   \n",
            "COMSOAL[ 3 ]\n",
            "작업장개수 : 2\n",
            "작업장 : [[3, 2, 7, 1, 5, 4, 8, 11, 9, 6, 10, 12, 13, 14], [15, 16, 19, 17, 20, 18, 21]]\n",
            "작업시간 : [[8, 5, 3, 7, 7, 10, 6, 6, 10, 4, 7, 5, 5, 4], [12, 10, 10, 5, 5, 15, 6]]\n",
            "작업장별 소요시간 : [87, 63]\n",
            "작업효율 : 0.8333333333333334\n",
            "   \n",
            "COMSOAL[ 4 ]\n",
            "작업장개수 : 2\n",
            "작업장 : [[2, 3, 1, 8, 7, 5, 11, 6, 4, 9, 10, 12, 13, 14], [15, 16, 17, 18, 20, 19, 21]]\n",
            "작업시간 : [[5, 8, 7, 6, 3, 7, 6, 4, 10, 10, 7, 5, 5, 4], [12, 10, 5, 15, 5, 10, 6]]\n",
            "작업장별 소요시간 : [87, 63]\n",
            "작업효율 : 0.8333333333333334\n",
            "   \n",
            "COMSOAL[ 5 ]\n",
            "작업장개수 : 2\n",
            "작업장 : [[1, 4, 9, 5, 3, 8, 7, 2, 11, 6, 10, 12, 13, 14], [15, 16, 19, 18, 17, 20, 21]]\n",
            "작업시간 : [[7, 10, 10, 7, 8, 6, 3, 5, 6, 4, 7, 5, 5, 4], [12, 10, 10, 15, 5, 5, 6]]\n",
            "작업장별 소요시간 : [87, 63]\n",
            "작업효율 : 0.8333333333333334\n",
            "   \n",
            "COMSOAL[ 6 ]\n",
            "작업장개수 : 2\n",
            "작업장 : [[1, 4, 2, 5, 3, 7, 6, 9, 10, 8, 11, 12, 13, 14], [15, 16, 19, 17, 18, 20, 21]]\n",
            "작업시간 : [[7, 10, 5, 7, 8, 3, 4, 10, 7, 6, 6, 5, 5, 4], [12, 10, 10, 5, 15, 5, 6]]\n",
            "작업장별 소요시간 : [87, 63]\n",
            "작업효율 : 0.8333333333333334\n",
            "   \n",
            "COMSOAL[ 7 ]\n",
            "작업장개수 : 2\n",
            "작업장 : [[2, 6, 1, 5, 10, 3, 4, 8, 9, 11, 7, 12, 13, 14], [15, 16, 18, 19, 17, 20, 21]]\n",
            "작업시간 : [[5, 4, 7, 7, 7, 8, 10, 6, 10, 6, 3, 5, 5, 4], [12, 10, 15, 10, 5, 5, 6]]\n",
            "작업장별 소요시간 : [87, 63]\n",
            "작업효율 : 0.8333333333333334\n",
            "   \n",
            "COMSOAL[ 8 ]\n",
            "작업장개수 : 2\n",
            "작업장 : [[1, 5, 4, 2, 3, 9, 6, 8, 10, 7, 11, 12, 13, 14], [15, 16, 19, 18, 17, 20, 21]]\n",
            "작업시간 : [[7, 7, 10, 5, 8, 10, 4, 6, 7, 3, 6, 5, 5, 4], [12, 10, 10, 15, 5, 5, 6]]\n",
            "작업장별 소요시간 : [87, 63]\n",
            "작업효율 : 0.8333333333333334\n",
            "   \n",
            "COMSOAL[ 9 ]\n",
            "작업장개수 : 2\n",
            "작업장 : [[2, 6, 3, 8, 11, 7, 1, 4, 9, 5, 10, 12, 13, 14], [15, 16, 18, 17, 19, 20, 21]]\n",
            "작업시간 : [[5, 4, 8, 6, 6, 3, 7, 10, 10, 7, 7, 5, 5, 4], [12, 10, 15, 5, 10, 5, 6]]\n",
            "작업장별 소요시간 : [87, 63]\n",
            "작업효율 : 0.8333333333333334\n"
          ],
          "name": "stdout"
        }
      ]
    },
    {
      "cell_type": "markdown",
      "metadata": {
        "id": "oCKi9IjucoEE"
      },
      "source": [
        "# 새 섹션"
      ]
    },
    {
      "cell_type": "code",
      "metadata": {
        "id": "acieCb6DcsQT"
      },
      "source": [
        ""
      ],
      "execution_count": null,
      "outputs": []
    }
  ]
}